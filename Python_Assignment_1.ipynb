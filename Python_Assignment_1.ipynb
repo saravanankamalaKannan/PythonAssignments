{
 "cells": [
  {
   "cell_type": "markdown",
   "metadata": {},
   "source": [
    "1. In the below elements which of them are values or an expression? eg:- values can be\n",
    "integer or string and expressions will be mathematical operators.\n",
    "\n",
    "Answer:\n",
    "### expression\n",
    "*\n",
    "-\n",
    "/\n",
    "+\n",
    "\n",
    "### values\n",
    "&#39;hello&#39;\n",
    "-87.8\n",
    "6"
   ]
  },
  {
   "cell_type": "markdown",
   "metadata": {},
   "source": [
    "2. What is the difference between string and variable?\n",
    "Answer:\n",
    "    String - is the data which can be used in a program\n",
    "    Variable - are symbols that are used to store data(string) in a program. "
   ]
  },
  {
   "cell_type": "markdown",
   "metadata": {},
   "source": [
    "3. Describe three different data types.\n",
    "Answer:\n",
    "    Numeric - int, float, complex\n",
    "    Boolean\n",
    "    Dictionary\n",
    "    set\n",
    "    Sequence - tuple, list, string\n",
    "    \n",
    "    "
   ]
  },
  {
   "cell_type": "markdown",
   "metadata": {},
   "source": [
    "4. What is an expression made up of? What do all expressions do?\n",
    "Answer:\n",
    "    Expression is made up of operands and operators. Expression are used to manipulate data and gets a desired result."
   ]
  },
  {
   "cell_type": "markdown",
   "metadata": {},
   "source": [
    "5. This assignment statements, like spam = 10. What is the difference between an\n",
    "expression and a statement?\n",
    "Answer:\n",
    "    expression - its a combination of variables, operations and value that yields a result ex: 1+2\n",
    "    statement - its a action or command ex: print 'hello'"
   ]
  },
  {
   "cell_type": "markdown",
   "metadata": {},
   "source": [
    "6. After running the following code, what does the variable bacon contain?\n",
    "bacon = 22\n",
    "bacon + 1\n",
    "Answer:\n",
    "    => 22"
   ]
  },
  {
   "cell_type": "markdown",
   "metadata": {},
   "source": [
    "7. What should the values of the following two terms be?\n",
    "'spam' + 'spamspam' => 'spamspamspam'\n",
    "'spam' * 3 => 'spamspamspam'"
   ]
  },
  {
   "cell_type": "markdown",
   "metadata": {},
   "source": [
    "8. Why is eggs a valid variable name while 100 is invalid?\n",
    "Answer:\n",
    "    Variable name should not start with number either it should start with letter or underscore\n",
    "    variable name can be alphanumeric\n",
    "    Variable name cannot use the keywords"
   ]
  },
  {
   "cell_type": "markdown",
   "metadata": {},
   "source": [
    "9. What three functions can be used to get the integer, floating-point number, or string\n",
    "version of a value?\n",
    "Answer:\n",
    "    int(), str(), float()\n"
   ]
  },
  {
   "cell_type": "markdown",
   "metadata": {},
   "source": [
    "10. Why does this expression cause an error? How can you fix it?\n",
    "'I have eaten' + 99 + 'burritos'\n",
    "Answer:\n",
    "    cannot add int and string data type using \"+\" arthematic operator\n",
    "    \n",
    "    solution : convert 99 to string \n",
    "    'I have eaten' + str(99) + 'burritos'        \n",
    "        "
   ]
  }
 ],
 "metadata": {
  "kernelspec": {
   "display_name": "Python 3",
   "language": "python",
   "name": "python3"
  },
  "language_info": {
   "codemirror_mode": {
    "name": "ipython",
    "version": 3
   },
   "file_extension": ".py",
   "mimetype": "text/x-python",
   "name": "python",
   "nbconvert_exporter": "python",
   "pygments_lexer": "ipython3",
   "version": "3.6.2"
  }
 },
 "nbformat": 4,
 "nbformat_minor": 2
}
